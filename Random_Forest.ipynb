{
  "cells": [
    {
      "cell_type": "code",
      "execution_count": 5,
      "metadata": {
        "id": "pl8rmSjYXzZ2"
      },
      "outputs": [],
      "source": [
        "#Random Forest model as a function with all the parameters as well as input files and output file names\n",
        "\n",
        "from sklearn.ensemble import RandomForestClassifier\n",
        "from sklearn.metrics import classification_report\n",
        "import pandas as pd\n",
        "import numpy as np\n",
        "from tensorflow.keras.preprocessing.sequence import pad_sequences\n",
        "\n",
        "def train_and_evaluate_rf(\n",
        "    train_file_path,\n",
        "    test_file_path,\n",
        "    report_file_path,\n",
        "    predictions_file_path,\n",
        "    n_estimators,\n",
        "    max_depth,\n",
        "    min_samples_split,\n",
        "    min_samples_leaf\n",
        "):\n",
        "    # Load the datasets\n",
        "    train_data = pd.read_csv(train_file_path)\n",
        "    test_data = pd.read_csv(test_file_path)\n",
        "\n",
        "    # List of amino acids (for one-hot encoding)\n",
        "    amino_acids = 'ACDEFGHIKLMNPQRSTVWY'\n",
        "\n",
        "    # Function to one-hot encode a sequence\n",
        "    def one_hot_encode(seq, aa_list):\n",
        "        encoding = np.zeros((len(seq), len(aa_list)), dtype=int)\n",
        "        for i, aa in enumerate(seq):\n",
        "            if aa in aa_list:\n",
        "                encoding[i, aa_list.index(aa)] = 1\n",
        "        return encoding\n",
        "\n",
        "    # Encode the sequences for training and testing\n",
        "    train_encoded = [one_hot_encode(seq, amino_acids) for seq in train_data['seq']]\n",
        "    test_encoded = [one_hot_encode(seq, amino_acids) for seq in test_data['seq']]\n",
        "\n",
        "    # Find the maximum sequence length in the training and testing datasets\n",
        "    max_seq_len = max(max(len(seq) for seq in train_data['seq']),\n",
        "                      max(len(seq) for seq in test_data['seq']))\n",
        "\n",
        "    # Pad the sequences to the maximum length\n",
        "    train_sequences = pad_sequences(train_encoded, maxlen=max_seq_len, padding='post', dtype='float32')\n",
        "    test_sequences = pad_sequences(test_encoded, maxlen=max_seq_len, padding='post', dtype='float32')\n",
        "\n",
        "    # Encode the secondary structures as target labels\n",
        "    sst3_mapping = {'H': 0, 'E': 1, 'C': 2}\n",
        "    train_labels = pad_sequences([[sst3_mapping[ss] for ss in sst] for sst in train_data['sst3']],\n",
        "                                 maxlen=max_seq_len, padding='post', value=-1)\n",
        "    test_labels = pad_sequences([[sst3_mapping[ss] for ss in sst] for sst in test_data['sst3']],\n",
        "                                maxlen=max_seq_len, padding='post', value=-1)\n",
        "\n",
        "    # Flatten the sequences and labels\n",
        "    train_sequences_flat = train_sequences.reshape(-1, train_sequences.shape[2])\n",
        "    test_sequences_flat = test_sequences.reshape(-1, test_sequences.shape[2])\n",
        "    train_labels_flat = train_labels.flatten()\n",
        "    test_labels_flat = test_labels.flatten()\n",
        "\n",
        "    # Create mask to filter out padded positions (-1)\n",
        "    train_mask = train_labels_flat != -1\n",
        "    test_mask = test_labels_flat != -1\n",
        "\n",
        "    # Apply the mask to filter out padding\n",
        "    train_sequences_flat = train_sequences_flat[train_mask]\n",
        "    train_labels_flat = train_labels_flat[train_mask]\n",
        "    test_sequences_flat = test_sequences_flat[test_mask]\n",
        "    test_labels_flat = test_labels_flat[test_mask]\n",
        "\n",
        "    # Train the Random Forest model with the original settings\n",
        "    rf_model = RandomForestClassifier(\n",
        "        n_estimators=n_estimators,\n",
        "        max_depth=max_depth,\n",
        "        min_samples_split=min_samples_split,\n",
        "        min_samples_leaf=min_samples_leaf,\n",
        "        random_state=42\n",
        "    )\n",
        "    rf_model.fit(train_sequences_flat, train_labels_flat)\n",
        "\n",
        "    # Make predictions on the test set\n",
        "    test_predictions = rf_model.predict(test_sequences_flat)\n",
        "\n",
        "    # Generate the classification report\n",
        "    report = classification_report(test_labels_flat, test_predictions, target_names=['H', 'E', 'C'])\n",
        "\n",
        "    # Save the classification report to a text file\n",
        "    with open(report_file_path, 'w') as f:\n",
        "        f.write(f\"Random Forest Test Accuracy: {rf_model.score(test_sequences_flat, test_labels_flat):.4f}\\n\\n\")\n",
        "        f.write(\"Classification Report:\\n\")\n",
        "        f.write(report)\n",
        "\n",
        "    # Save the predictions along with the true labels to a CSV file\n",
        "    results_df = pd.DataFrame({\n",
        "        'True_Label': test_labels_flat,\n",
        "        'Predicted_Label': test_predictions\n",
        "    })\n",
        "    results_df.to_csv(predictions_file_path, index=False)\n",
        "\n",
        "    print(f\"Classification report saved to {report_file_path}\")\n",
        "    print(f\"Predictions saved to {predictions_file_path}\")"
      ]
    },
    {
      "cell_type": "code",
      "execution_count": 27,
      "metadata": {
        "colab": {
          "base_uri": "https://localhost:8080/"
        },
        "id": "YTpqzOZDYcUO",
        "outputId": "25ea3990-6e94-4558-a2b0-f62768060060"
      },
      "outputs": [
        {
          "output_type": "stream",
          "name": "stderr",
          "text": [
            "/usr/local/lib/python3.10/dist-packages/sklearn/metrics/_classification.py:1531: UndefinedMetricWarning: Precision is ill-defined and being set to 0.0 in labels with no predicted samples. Use `zero_division` parameter to control this behavior.\n",
            "  _warn_prf(average, modifier, f\"{metric.capitalize()} is\", len(result))\n",
            "/usr/local/lib/python3.10/dist-packages/sklearn/metrics/_classification.py:1531: UndefinedMetricWarning: Precision is ill-defined and being set to 0.0 in labels with no predicted samples. Use `zero_division` parameter to control this behavior.\n",
            "  _warn_prf(average, modifier, f\"{metric.capitalize()} is\", len(result))\n",
            "/usr/local/lib/python3.10/dist-packages/sklearn/metrics/_classification.py:1531: UndefinedMetricWarning: Precision is ill-defined and being set to 0.0 in labels with no predicted samples. Use `zero_division` parameter to control this behavior.\n",
            "  _warn_prf(average, modifier, f\"{metric.capitalize()} is\", len(result))\n"
          ]
        },
        {
          "output_type": "stream",
          "name": "stdout",
          "text": [
            "Classification report saved to RF_Initial_report.txt\n",
            "Predictions saved to RF_initial_predictions.csv\n"
          ]
        }
      ],
      "source": [
        "#Initial values of paramets and first dataset\n",
        "train_and_evaluate_rf(\n",
        "    train_file_path='/content/training_data_clean.csv', #training dataset\n",
        "    test_file_path='/content/test_data_clean.csv',  #Test dataset\n",
        "    report_file_path='RF_Initial_report.txt', #Report consisting of ex acuuracy and F1 scores\n",
        "    predictions_file_path='RF_initial_predictions.csv', #The predictions performed by the model\n",
        "    n_estimators=100,\n",
        "    max_depth=None,\n",
        "    min_samples_split=2,\n",
        "    min_samples_leaf=1\n",
        ")"
      ]
    },
    {
      "cell_type": "code",
      "execution_count": 29,
      "metadata": {
        "id": "kneDCwrIZWEF",
        "colab": {
          "base_uri": "https://localhost:8080/"
        },
        "outputId": "509245b6-3686-49b8-ecb9-b416ea2cfaad"
      },
      "outputs": [
        {
          "output_type": "stream",
          "name": "stderr",
          "text": [
            "/usr/local/lib/python3.10/dist-packages/sklearn/metrics/_classification.py:1531: UndefinedMetricWarning: Precision is ill-defined and being set to 0.0 in labels with no predicted samples. Use `zero_division` parameter to control this behavior.\n",
            "  _warn_prf(average, modifier, f\"{metric.capitalize()} is\", len(result))\n",
            "/usr/local/lib/python3.10/dist-packages/sklearn/metrics/_classification.py:1531: UndefinedMetricWarning: Precision is ill-defined and being set to 0.0 in labels with no predicted samples. Use `zero_division` parameter to control this behavior.\n",
            "  _warn_prf(average, modifier, f\"{metric.capitalize()} is\", len(result))\n",
            "/usr/local/lib/python3.10/dist-packages/sklearn/metrics/_classification.py:1531: UndefinedMetricWarning: Precision is ill-defined and being set to 0.0 in labels with no predicted samples. Use `zero_division` parameter to control this behavior.\n",
            "  _warn_prf(average, modifier, f\"{metric.capitalize()} is\", len(result))\n"
          ]
        },
        {
          "output_type": "stream",
          "name": "stdout",
          "text": [
            "Classification report saved to RF_part2a_report.txt\n",
            "Predictions saved to RF_part2a_predictions.csv\n"
          ]
        }
      ],
      "source": [
        "#Initial values and second dataset\n",
        "train_and_evaluate_rf(\n",
        "    train_file_path='/content/training_data__part2_clean.csv',   #training dataset\n",
        "    test_file_path='/content/test_data_part2_clean.csv',  #Test dataset\n",
        "    report_file_path='RF_part2a_report.txt',  #Report consisting of ex acuuracy and F1 scores\n",
        "    predictions_file_path='RF_part2a_predictions.csv',  #The predictions performed by the model\n",
        "    n_estimators=100,\n",
        "    max_depth=None,\n",
        "    min_samples_split=2,\n",
        "    min_samples_leaf=1\n",
        ")"
      ]
    },
    {
      "cell_type": "code",
      "execution_count": 1,
      "metadata": {
        "id": "1y4QEtIkZnf6"
      },
      "outputs": [],
      "source": [
        "#Code needed for the parameter tuning function\n",
        "\n",
        "from tensorflow.keras.preprocessing.sequence import pad_sequences\n",
        "import numpy as np\n",
        "\n",
        "def preprocess_data(train_data, test_data):\n",
        "    # List of amino acids (for one-hot encoding)\n",
        "    amino_acids = 'ACDEFGHIKLMNPQRSTVWY'\n",
        "\n",
        "    # Function to one-hot encode a sequence\n",
        "    def one_hot_encode(seq, aa_list):\n",
        "        encoding = np.zeros((len(seq), len(aa_list)), dtype=int)\n",
        "        for i, aa in enumerate(seq):\n",
        "            if aa in aa_list:\n",
        "                encoding[i, aa_list.index(aa)] = 1\n",
        "        return encoding\n",
        "\n",
        "    # Encode the sequences for training and testing\n",
        "    train_encoded = [one_hot_encode(seq, amino_acids) for seq in train_data['seq']]\n",
        "    test_encoded = [one_hot_encode(seq, amino_acids) for seq in test_data['seq']]\n",
        "\n",
        "    # Find the maximum sequence length in the training and testing datasets\n",
        "    max_seq_len = max(max(len(seq) for seq in train_data['seq']),\n",
        "                      max(len(seq) for seq in test_data['seq']))\n",
        "\n",
        "    # Pad the sequences to the maximum length\n",
        "    train_sequences = pad_sequences(train_encoded, maxlen=max_seq_len, padding='post', dtype='float32')\n",
        "    test_sequences = pad_sequences(test_encoded, maxlen=max_seq_len, padding='post', dtype='float32')\n",
        "\n",
        "    # Encode the secondary structures as target labels\n",
        "    # We'll use integer encoding for the secondary structure: H = 0, E = 1, C = 2\n",
        "    sst3_mapping = {'H': 0, 'E': 1, 'C': 2}\n",
        "    train_labels = pad_sequences([[sst3_mapping[ss] for ss in sst] for sst in train_data['sst3']],\n",
        "                                 maxlen=max_seq_len, padding='post', value=-1)\n",
        "    test_labels = pad_sequences([[sst3_mapping[ss] for ss in sst] for sst in test_data['sst3']],\n",
        "                                maxlen=max_seq_len, padding='post', value=-1)\n",
        "\n",
        "    # Flatten the sequences and labels\n",
        "    train_sequences_flat = train_sequences.reshape(-1, train_sequences.shape[2])  # Shape: (number of sequences * max_seq_len, 20)\n",
        "    test_sequences_flat = test_sequences.reshape(-1, test_sequences.shape[2])    # Shape: (number of sequences * max_seq_len, 20)\n",
        "    train_labels_flat = train_labels.flatten()  # Shape: (number of sequences * max_seq_len,)\n",
        "    test_labels_flat = test_labels.flatten()    # Shape: (number of sequences * max_seq_len,)\n",
        "\n",
        "    # Create mask to filter out padded positions (-1)\n",
        "    train_mask = train_labels_flat != -1\n",
        "    test_mask = test_labels_flat != -1\n",
        "\n",
        "    # Apply the mask to filter out padding\n",
        "    X_train = train_sequences_flat[train_mask]\n",
        "    y_train = train_labels_flat[train_mask]\n",
        "    X_test = test_sequences_flat[test_mask]\n",
        "    y_test = test_labels_flat[test_mask]\n",
        "\n",
        "    return X_train, y_train, X_test, y_test"
      ]
    },
    {
      "cell_type": "code",
      "execution_count": 2,
      "metadata": {
        "id": "NLnARc0xaBHC"
      },
      "outputs": [],
      "source": [
        "#Hyper parameter tuning\n",
        "from sklearn.model_selection import GridSearchCV\n",
        "from sklearn.ensemble import RandomForestClassifier\n",
        "from sklearn.metrics import accuracy_score, classification_report\n",
        "import pandas as pd\n",
        "\n",
        "def tune_random_forest(train_file_path, test_file_path, report_file_path, predictions_file_path, param_grid):\n",
        "    # Step 1: Load Data\n",
        "    train_data = pd.read_csv(train_file_path)\n",
        "    test_data = pd.read_csv(test_file_path)\n",
        "\n",
        "    # Step 2: Preprocess Data\n",
        "    X_train, y_train, X_test, y_test = preprocess_data(train_data, test_data)\n",
        "\n",
        "    # Step 3: Define Hyperparameter Grid\n",
        "\n",
        "    # Step 4: Initialize and Fit Grid Search\n",
        "    grid_search = GridSearchCV(RandomForestClassifier(), param_grid, cv=5, n_jobs=-1, verbose=2)\n",
        "    grid_search.fit(X_train, y_train)\n",
        "\n",
        "    # Step 5: Predict and Evaluate\n",
        "    best_model = grid_search.best_estimator_\n",
        "    y_pred = best_model.predict(X_test)\n",
        "    accuracy = accuracy_score(y_test, y_pred)\n",
        "    classification_rep = classification_report(y_test, y_pred)\n",
        "\n",
        "    # Get the best parameters\n",
        "    best_params = grid_search.best_params_\n",
        "\n",
        "    # Step 6: Save Report and Predictions\n",
        "    with open(report_file_path, 'w') as f:\n",
        "        f.write(\"Random Forest Best Parameters:\\n\")\n",
        "        for param, value in best_params.items():\n",
        "            f.write(f\"{param}: {value}\\n\")\n",
        "        f.write(f\"\\nTest Accuracy: {accuracy:.4f}\\n\")\n",
        "        f.write(\"\\nClassification Report:\\n\")\n",
        "        f.write(classification_rep)\n",
        "\n",
        "    pd.DataFrame(y_pred, columns=['Predictions']).to_csv(predictions_file_path, index=False)\n",
        "\n",
        "    print(f\"Classification report saved to {report_file_path}\")\n",
        "    print(f\"Predictions saved to {predictions_file_path}\")\n",
        "\n",
        "    return best_model\n"
      ]
    },
    {
      "cell_type": "code",
      "execution_count": 3,
      "metadata": {
        "colab": {
          "base_uri": "https://localhost:8080/"
        },
        "id": "HuToYZCgaJDa",
        "outputId": "42850a99-801a-409d-fc37-2c69a4d8fa82"
      },
      "outputs": [
        {
          "output_type": "stream",
          "name": "stdout",
          "text": [
            "Fitting 5 folds for each of 108 candidates, totalling 540 fits\n"
          ]
        },
        {
          "output_type": "stream",
          "name": "stderr",
          "text": [
            "/usr/local/lib/python3.10/dist-packages/sklearn/metrics/_classification.py:1531: UndefinedMetricWarning: Precision is ill-defined and being set to 0.0 in labels with no predicted samples. Use `zero_division` parameter to control this behavior.\n",
            "  _warn_prf(average, modifier, f\"{metric.capitalize()} is\", len(result))\n",
            "/usr/local/lib/python3.10/dist-packages/sklearn/metrics/_classification.py:1531: UndefinedMetricWarning: Precision is ill-defined and being set to 0.0 in labels with no predicted samples. Use `zero_division` parameter to control this behavior.\n",
            "  _warn_prf(average, modifier, f\"{metric.capitalize()} is\", len(result))\n",
            "/usr/local/lib/python3.10/dist-packages/sklearn/metrics/_classification.py:1531: UndefinedMetricWarning: Precision is ill-defined and being set to 0.0 in labels with no predicted samples. Use `zero_division` parameter to control this behavior.\n",
            "  _warn_prf(average, modifier, f\"{metric.capitalize()} is\", len(result))\n"
          ]
        },
        {
          "output_type": "stream",
          "name": "stdout",
          "text": [
            "Classification report saved to RF_tuning_report.txt\n",
            "Predictions saved to RF_pred_tuning.csv\n"
          ]
        }
      ],
      "source": [
        "# Random Forest, broad tuning\n",
        "\n",
        "param_grid = {\n",
        "        'n_estimators': [50, 100, 200],\n",
        "        'max_depth': [10, 20, 30, None],\n",
        "        'min_samples_split': [2, 5, 10],\n",
        "        'min_samples_leaf': [1, 2, 4]\n",
        "    }\n",
        "\n",
        "best_rf = tune_random_forest('/content/training_data__part2_clean.csv', '/content/test_data_part2_clean.csv', 'RF_tuning_report.txt', 'RF_pred_tuning.csv', param_grid)\n"
      ]
    },
    {
      "cell_type": "code",
      "execution_count": 24,
      "metadata": {
        "id": "n9DBCyUnaOZi",
        "colab": {
          "base_uri": "https://localhost:8080/"
        },
        "outputId": "1f6bd1fb-4eac-42b3-bffb-67addf6a9af2"
      },
      "outputs": [
        {
          "output_type": "stream",
          "name": "stderr",
          "text": [
            "/usr/local/lib/python3.10/dist-packages/sklearn/metrics/_classification.py:1531: UndefinedMetricWarning: Precision is ill-defined and being set to 0.0 in labels with no predicted samples. Use `zero_division` parameter to control this behavior.\n",
            "  _warn_prf(average, modifier, f\"{metric.capitalize()} is\", len(result))\n",
            "/usr/local/lib/python3.10/dist-packages/sklearn/metrics/_classification.py:1531: UndefinedMetricWarning: Precision is ill-defined and being set to 0.0 in labels with no predicted samples. Use `zero_division` parameter to control this behavior.\n",
            "  _warn_prf(average, modifier, f\"{metric.capitalize()} is\", len(result))\n",
            "/usr/local/lib/python3.10/dist-packages/sklearn/metrics/_classification.py:1531: UndefinedMetricWarning: Precision is ill-defined and being set to 0.0 in labels with no predicted samples. Use `zero_division` parameter to control this behavior.\n",
            "  _warn_prf(average, modifier, f\"{metric.capitalize()} is\", len(result))\n"
          ]
        },
        {
          "output_type": "stream",
          "name": "stdout",
          "text": [
            "Classification report saved to RF_part2b_report.txt\n",
            "Predictions saved to RF_part2b_predictions.csv\n"
          ]
        }
      ],
      "source": [
        "#Post tuning testing (evaluating on dataset2)\n",
        "train_and_evaluate_rf(\n",
        "    train_file_path='/content/training_data__part2_clean.csv',\n",
        "    test_file_path='/content/test_data_part2_clean.csv',\n",
        "    report_file_path='RF_part2b_report.txt',\n",
        "    predictions_file_path='RF_part2b_predictions.csv',\n",
        "    n_estimators=50,\n",
        "    max_depth=20,\n",
        "    min_samples_split=5,\n",
        "    min_samples_leaf=1\n",
        ")"
      ]
    },
    {
      "cell_type": "code",
      "execution_count": 25,
      "metadata": {
        "id": "rJ-MV7Y4ah6y",
        "colab": {
          "base_uri": "https://localhost:8080/"
        },
        "outputId": "90ba723e-cd17-4dc0-aad5-af7cd50bc24a"
      },
      "outputs": [
        {
          "output_type": "stream",
          "name": "stderr",
          "text": [
            "/usr/local/lib/python3.10/dist-packages/sklearn/metrics/_classification.py:1531: UndefinedMetricWarning: Precision is ill-defined and being set to 0.0 in labels with no predicted samples. Use `zero_division` parameter to control this behavior.\n",
            "  _warn_prf(average, modifier, f\"{metric.capitalize()} is\", len(result))\n",
            "/usr/local/lib/python3.10/dist-packages/sklearn/metrics/_classification.py:1531: UndefinedMetricWarning: Precision is ill-defined and being set to 0.0 in labels with no predicted samples. Use `zero_division` parameter to control this behavior.\n",
            "  _warn_prf(average, modifier, f\"{metric.capitalize()} is\", len(result))\n",
            "/usr/local/lib/python3.10/dist-packages/sklearn/metrics/_classification.py:1531: UndefinedMetricWarning: Precision is ill-defined and being set to 0.0 in labels with no predicted samples. Use `zero_division` parameter to control this behavior.\n",
            "  _warn_prf(average, modifier, f\"{metric.capitalize()} is\", len(result))\n"
          ]
        },
        {
          "output_type": "stream",
          "name": "stdout",
          "text": [
            "Classification report saved to RF_part3_report.txt\n",
            "Predictions saved to RF_part3_predictions.csv\n"
          ]
        }
      ],
      "source": [
        "#Post tuning testing (evaluating on dataset 3)\n",
        "train_and_evaluate_rf(\n",
        "    train_file_path='/content/training_data__part3_clean.csv',\n",
        "    test_file_path='/content/test_data_part3_clean.csv',\n",
        "    report_file_path='RF_part3_report.txt',\n",
        "    predictions_file_path='RF_part3_predictions.csv',\n",
        "    n_estimators=50,\n",
        "    max_depth=20,\n",
        "    min_samples_split=5,\n",
        "    min_samples_leaf=1\n",
        ")"
      ]
    },
    {
      "cell_type": "code",
      "source": [
        "#Post tuning testing (evaluating on dataset 4)\n",
        "train_and_evaluate_rf(\n",
        "    train_file_path='/content/training_data_part4.csv',\n",
        "    test_file_path='/content/test_data_part4.csv',\n",
        "    report_file_path='RF_part4_report.txt',\n",
        "    predictions_file_path='RF_part4_predictions.csv',\n",
        "    n_estimators=50,\n",
        "    max_depth=20,\n",
        "    min_samples_split=5,\n",
        "    min_samples_leaf=1\n",
        ")"
      ],
      "metadata": {
        "colab": {
          "base_uri": "https://localhost:8080/"
        },
        "id": "ShVkqqvCaMtl",
        "outputId": "a48df40e-66e2-4eb3-f0bf-628f8a8aa192"
      },
      "execution_count": 26,
      "outputs": [
        {
          "output_type": "stream",
          "name": "stderr",
          "text": [
            "/usr/local/lib/python3.10/dist-packages/sklearn/metrics/_classification.py:1531: UndefinedMetricWarning: Precision is ill-defined and being set to 0.0 in labels with no predicted samples. Use `zero_division` parameter to control this behavior.\n",
            "  _warn_prf(average, modifier, f\"{metric.capitalize()} is\", len(result))\n",
            "/usr/local/lib/python3.10/dist-packages/sklearn/metrics/_classification.py:1531: UndefinedMetricWarning: Precision is ill-defined and being set to 0.0 in labels with no predicted samples. Use `zero_division` parameter to control this behavior.\n",
            "  _warn_prf(average, modifier, f\"{metric.capitalize()} is\", len(result))\n",
            "/usr/local/lib/python3.10/dist-packages/sklearn/metrics/_classification.py:1531: UndefinedMetricWarning: Precision is ill-defined and being set to 0.0 in labels with no predicted samples. Use `zero_division` parameter to control this behavior.\n",
            "  _warn_prf(average, modifier, f\"{metric.capitalize()} is\", len(result))\n"
          ]
        },
        {
          "output_type": "stream",
          "name": "stdout",
          "text": [
            "Classification report saved to RF_part4_report.txt\n",
            "Predictions saved to RF_part4_predictions.csv\n"
          ]
        }
      ]
    }
  ],
  "metadata": {
    "colab": {
      "gpuType": "T4",
      "provenance": []
    },
    "kernelspec": {
      "display_name": "Python 3",
      "name": "python3"
    },
    "language_info": {
      "name": "python"
    }
  },
  "nbformat": 4,
  "nbformat_minor": 0
}